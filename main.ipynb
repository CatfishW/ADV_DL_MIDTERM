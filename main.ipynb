{
 "cells": [
  {
   "cell_type": "code",
   "execution_count": null,
   "metadata": {},
   "outputs": [
    {
     "name": "stderr",
     "output_type": "stream",
     "text": [
      "/home/yanlai/ADV_DL_MIDTERM/.venv/lib/python3.10/site-packages/tqdm/auto.py:21: TqdmWarning: IProgress not found. Please update jupyter and ipywidgets. See https://ipywidgets.readthedocs.io/en/stable/user_install.html\n",
      "  from .autonotebook import tqdm as notebook_tqdm\n",
      "You are using the default legacy behaviour of the <class 'transformers.models.t5.tokenization_t5.T5Tokenizer'>. This is expected, and simply means that the `legacy` (previous) behavior will be used so nothing changes for you. If you want to use the new behaviour, set `legacy=False`. This should only be set if you understand what it means, and thoroughly read the reason why this was added as explained in https://github.com/huggingface/transformers/pull/24565\n",
      "Map: 100%|██████████| 10214/10214 [00:02<00:00, 4699.39 examples/s]\n",
      "Map: 100%|██████████| 204/204 [00:00<00:00, 5009.38 examples/s]\n",
      "Map: 100%|██████████| 334/334 [00:00<00:00, 6515.86 examples/s]"
     ]
    },
    {
     "name": "stdout",
     "output_type": "stream",
     "text": [
      "Data Example 1:\n",
      "language: en  Graphic designer Stefan Sagmei\n",
      "language: fr  Le designer graphique Stefan S\n",
      "Data Example 2:\n",
      "language: en  Stefan Sagmeister: Happiness b\n",
      "language: fr  Stefan Sagmeister parle du bon\n",
      "==========================================================================================================\n",
      "Train Dataset Size:\n"
     ]
    },
    {
     "name": "stderr",
     "output_type": "stream",
     "text": [
      "\n"
     ]
    },
    {
     "name": "stdout",
     "output_type": "stream",
     "text": [
      "10214\n",
      "Test Dataset Size:\n",
      "334\n",
      "Eval Dataset Size:\n",
      "204\n",
      "==========================================================================================================\n"
     ]
    },
    {
     "name": "stderr",
     "output_type": "stream",
     "text": [
      "/home/yanlai/ADV_DL_MIDTERM/engine.py:38: FutureWarning: `tokenizer` is deprecated and will be removed in version 5.0.0 for `Seq2SeqTrainer.__init__`. Use `processing_class` instead.\n",
      "  trainer = Seq2SeqTrainer(\n",
      "Passing a tuple of `past_key_values` is deprecated and will be removed in Transformers v4.48.0. You should pass an instance of `EncoderDecoderCache` instead, e.g. `past_key_values=EncoderDecoderCache.from_legacy_cache(past_key_values)`.\n"
     ]
    },
    {
     "data": {
      "text/html": [
       "\n",
       "    <div>\n",
       "      \n",
       "      <progress value='134' max='3200' style='width:300px; height:20px; vertical-align: middle;'></progress>\n",
       "      [ 134/3200 00:19 < 07:31, 6.79 it/s, Epoch 0.83/20]\n",
       "    </div>\n",
       "    <table border=\"1\" class=\"dataframe\">\n",
       "  <thead>\n",
       " <tr style=\"text-align: left;\">\n",
       "      <th>Step</th>\n",
       "      <th>Training Loss</th>\n",
       "    </tr>\n",
       "  </thead>\n",
       "  <tbody>\n",
       "  </tbody>\n",
       "</table><p>"
      ],
      "text/plain": [
       "<IPython.core.display.HTML object>"
      ]
     },
     "metadata": {},
     "output_type": "display_data"
    }
   ],
   "source": [
    "from tqdm import tqdm\n",
    "from config.config import cfg\n",
    "from colorama import Fore, Style, init\n",
    "from engine import trainer\n",
    "from dataset.dataset import tokenized_books_eval,tokenized_books_test\n",
    "from model.model import tokenizer\n",
    "if not cfg['model']['do_eval']:\n",
    "    #run test dataset every 1000 steps\n",
    "    trainer.train()\n",
    "trainer.evaluate(eval_dataset=tokenized_books_test)\n",
    "#Metrics Computations on Eval Dataset\n",
    "results = trainer.predict(tokenized_books_eval)\n",
    "'''\n",
    "PredictionOutput(predictions=array([[    0,  1064,   285, ...,    87,   287, 19882],\n",
    "    [    0,  3557,   210, ...,     0,     0,     0],\n",
    "    [    0, 17129,  5545, ...,     3, 26375,   245],\n",
    "    ...,\n",
    "    [    0,  1955,   276, ...,     0,     0,     0],\n",
    "    [    0,  3039,    73, ...,    15,    20,  2143],\n",
    "    [    0,  9236,     9, ...,     0,     0,     0]]), \n",
    "    label_ids=array([[ 7227,   142,  8063, ...,    15,     5,     1],\n",
    "    [ 3557,   210,     3, ...,  -100,  -100,  -100],\n",
    "    [  622,     3, 29725, ...,  -100,  -100,  -100],\n",
    "    ...,\n",
    "    [ 1955,   276, 12220, ...,  -100,  -100,  -100],\n",
    "    [ 3039,   197, 29068, ...,  -100,  -100,  -100],\n",
    "    [  312, 26274,   146, ...,  -100,  -100,  -100]]), \n",
    "    metrics={'test_loss': 1.4194819927215576, \n",
    "    'test_bleu': 4.7773, 'test_gen_len': 17.4118, \n",
    "    'test_runtime': 3.1035, 'test_samples_per_second': 65.733, \n",
    "    'test_steps_per_second': 4.189})\n",
    "'''\n",
    "\n",
    "'''\n",
    "BLEU (Bilingual Evaluation Understudy) is a metric ranging from 0 to 100 \n",
    "for evaluating the quality of text which has been \n",
    "machine-translated from one language to another.\n",
    "'''\n",
    "#map the predictions to the actual words\n",
    "decoded_preds = tokenizer.batch_decode(results.predictions, skip_special_tokens=True)\n",
    "for i in range(5):\n",
    "    print(Fore.GREEN + \"English Input:\")\n",
    "    print(Fore.BLUE + tokenized_books_eval['translation'][i]['en'])\n",
    "    print(Fore.GREEN + \"French Prediction:\")\n",
    "    print(Fore.BLUE + decoded_preds[i])\n",
    "    print(Fore.RED + \"Actual French Translation:\")\n",
    "    print(Fore.RESET + tokenized_books_eval['translation'][i]['fr'])\n",
    "    print(\"==========================================================================================================\")\n",
    "print(Fore.YELLOW + \"Metrics:\")\n",
    "print('TEST SET BLEU:',results.metrics['test_bleu'])"
   ]
  },
  {
   "cell_type": "code",
   "execution_count": null,
   "metadata": {},
   "outputs": [],
   "source": []
  }
 ],
 "metadata": {
  "kernelspec": {
   "display_name": ".venv",
   "language": "python",
   "name": "python3"
  },
  "language_info": {
   "codemirror_mode": {
    "name": "ipython",
    "version": 3
   },
   "file_extension": ".py",
   "mimetype": "text/x-python",
   "name": "python",
   "nbconvert_exporter": "python",
   "pygments_lexer": "ipython3",
   "version": "3.10.14"
  }
 },
 "nbformat": 4,
 "nbformat_minor": 2
}
